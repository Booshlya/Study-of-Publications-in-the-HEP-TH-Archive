{
  "nbformat": 4,
  "nbformat_minor": 0,
  "metadata": {
    "colab": {
      "provenance": []
    },
    "kernelspec": {
      "name": "python3",
      "display_name": "Python 3"
    },
    "language_info": {
      "name": "python"
    }
  },
  "cells": [
    {
      "cell_type": "markdown",
      "source": [
        "# Libraries"
      ],
      "metadata": {
        "id": "gR-nPr80Jptq"
      }
    },
    {
      "cell_type": "code",
      "source": [
        "import pandas as pd\n",
        "import networkx as nx\n",
        "import plotly.express as px"
      ],
      "metadata": {
        "id": "PauCw_UBJkZF"
      },
      "execution_count": 1,
      "outputs": []
    },
    {
      "cell_type": "markdown",
      "source": [
        "# Yearly trends"
      ],
      "metadata": {
        "id": "1lHQTsUMJmv-"
      }
    },
    {
      "cell_type": "code",
      "execution_count": 3,
      "metadata": {
        "colab": {
          "base_uri": "https://localhost:8080/",
          "height": 542
        },
        "id": "BqlpxsScQe5h",
        "outputId": "a00c99fd-7545-4824-a1c4-68f09de3bf28"
      },
      "outputs": [
        {
          "output_type": "display_data",
          "data": {
            "text/html": [
              "<html>\n",
              "<head><meta charset=\"utf-8\" /></head>\n",
              "<body>\n",
              "    <div>            <script src=\"https://cdnjs.cloudflare.com/ajax/libs/mathjax/2.7.5/MathJax.js?config=TeX-AMS-MML_SVG\"></script><script type=\"text/javascript\">if (window.MathJax && window.MathJax.Hub && window.MathJax.Hub.Config) {window.MathJax.Hub.Config({SVG: {font: \"STIX-Web\"}});}</script>                <script type=\"text/javascript\">window.PlotlyConfig = {MathJaxConfig: 'local'};</script>\n",
              "        <script charset=\"utf-8\" src=\"https://cdn.plot.ly/plotly-2.35.2.min.js\"></script>                <div id=\"5f100199-a409-46ef-98ab-ea2444cd96b1\" class=\"plotly-graph-div\" style=\"height:525px; width:100%;\"></div>            <script type=\"text/javascript\">                                    window.PLOTLYENV=window.PLOTLYENV || {};                                    if (document.getElementById(\"5f100199-a409-46ef-98ab-ea2444cd96b1\")) {                    Plotly.newPlot(                        \"5f100199-a409-46ef-98ab-ea2444cd96b1\",                        [{\"alignmentgroup\":\"True\",\"hovertemplate\":\"Year=%{x}\\u003cbr\\u003eNumber of Publications=%{y}\\u003cextra\\u003e\\u003c\\u002fextra\\u003e\",\"legendgroup\":\"\",\"marker\":{\"color\":\"#636efa\",\"pattern\":{\"shape\":\"\"}},\"name\":\"\",\"offsetgroup\":\"\",\"orientation\":\"v\",\"showlegend\":false,\"textposition\":\"auto\",\"x\":[1992,1993,1994,1995,1996,1997,1998,1999,2000,2001,2002],\"xaxis\":\"x\",\"y\":[855,1997,2894,3444,3939,4252,4721,5041,5219,5313,882],\"yaxis\":\"y\",\"type\":\"bar\"}],                        {\"template\":{\"data\":{\"histogram2dcontour\":[{\"type\":\"histogram2dcontour\",\"colorbar\":{\"outlinewidth\":0,\"ticks\":\"\"},\"colorscale\":[[0.0,\"#0d0887\"],[0.1111111111111111,\"#46039f\"],[0.2222222222222222,\"#7201a8\"],[0.3333333333333333,\"#9c179e\"],[0.4444444444444444,\"#bd3786\"],[0.5555555555555556,\"#d8576b\"],[0.6666666666666666,\"#ed7953\"],[0.7777777777777778,\"#fb9f3a\"],[0.8888888888888888,\"#fdca26\"],[1.0,\"#f0f921\"]]}],\"choropleth\":[{\"type\":\"choropleth\",\"colorbar\":{\"outlinewidth\":0,\"ticks\":\"\"}}],\"histogram2d\":[{\"type\":\"histogram2d\",\"colorbar\":{\"outlinewidth\":0,\"ticks\":\"\"},\"colorscale\":[[0.0,\"#0d0887\"],[0.1111111111111111,\"#46039f\"],[0.2222222222222222,\"#7201a8\"],[0.3333333333333333,\"#9c179e\"],[0.4444444444444444,\"#bd3786\"],[0.5555555555555556,\"#d8576b\"],[0.6666666666666666,\"#ed7953\"],[0.7777777777777778,\"#fb9f3a\"],[0.8888888888888888,\"#fdca26\"],[1.0,\"#f0f921\"]]}],\"heatmap\":[{\"type\":\"heatmap\",\"colorbar\":{\"outlinewidth\":0,\"ticks\":\"\"},\"colorscale\":[[0.0,\"#0d0887\"],[0.1111111111111111,\"#46039f\"],[0.2222222222222222,\"#7201a8\"],[0.3333333333333333,\"#9c179e\"],[0.4444444444444444,\"#bd3786\"],[0.5555555555555556,\"#d8576b\"],[0.6666666666666666,\"#ed7953\"],[0.7777777777777778,\"#fb9f3a\"],[0.8888888888888888,\"#fdca26\"],[1.0,\"#f0f921\"]]}],\"heatmapgl\":[{\"type\":\"heatmapgl\",\"colorbar\":{\"outlinewidth\":0,\"ticks\":\"\"},\"colorscale\":[[0.0,\"#0d0887\"],[0.1111111111111111,\"#46039f\"],[0.2222222222222222,\"#7201a8\"],[0.3333333333333333,\"#9c179e\"],[0.4444444444444444,\"#bd3786\"],[0.5555555555555556,\"#d8576b\"],[0.6666666666666666,\"#ed7953\"],[0.7777777777777778,\"#fb9f3a\"],[0.8888888888888888,\"#fdca26\"],[1.0,\"#f0f921\"]]}],\"contourcarpet\":[{\"type\":\"contourcarpet\",\"colorbar\":{\"outlinewidth\":0,\"ticks\":\"\"}}],\"contour\":[{\"type\":\"contour\",\"colorbar\":{\"outlinewidth\":0,\"ticks\":\"\"},\"colorscale\":[[0.0,\"#0d0887\"],[0.1111111111111111,\"#46039f\"],[0.2222222222222222,\"#7201a8\"],[0.3333333333333333,\"#9c179e\"],[0.4444444444444444,\"#bd3786\"],[0.5555555555555556,\"#d8576b\"],[0.6666666666666666,\"#ed7953\"],[0.7777777777777778,\"#fb9f3a\"],[0.8888888888888888,\"#fdca26\"],[1.0,\"#f0f921\"]]}],\"surface\":[{\"type\":\"surface\",\"colorbar\":{\"outlinewidth\":0,\"ticks\":\"\"},\"colorscale\":[[0.0,\"#0d0887\"],[0.1111111111111111,\"#46039f\"],[0.2222222222222222,\"#7201a8\"],[0.3333333333333333,\"#9c179e\"],[0.4444444444444444,\"#bd3786\"],[0.5555555555555556,\"#d8576b\"],[0.6666666666666666,\"#ed7953\"],[0.7777777777777778,\"#fb9f3a\"],[0.8888888888888888,\"#fdca26\"],[1.0,\"#f0f921\"]]}],\"mesh3d\":[{\"type\":\"mesh3d\",\"colorbar\":{\"outlinewidth\":0,\"ticks\":\"\"}}],\"scatter\":[{\"fillpattern\":{\"fillmode\":\"overlay\",\"size\":10,\"solidity\":0.2},\"type\":\"scatter\"}],\"parcoords\":[{\"type\":\"parcoords\",\"line\":{\"colorbar\":{\"outlinewidth\":0,\"ticks\":\"\"}}}],\"scatterpolargl\":[{\"type\":\"scatterpolargl\",\"marker\":{\"colorbar\":{\"outlinewidth\":0,\"ticks\":\"\"}}}],\"bar\":[{\"error_x\":{\"color\":\"#2a3f5f\"},\"error_y\":{\"color\":\"#2a3f5f\"},\"marker\":{\"line\":{\"color\":\"#E5ECF6\",\"width\":0.5},\"pattern\":{\"fillmode\":\"overlay\",\"size\":10,\"solidity\":0.2}},\"type\":\"bar\"}],\"scattergeo\":[{\"type\":\"scattergeo\",\"marker\":{\"colorbar\":{\"outlinewidth\":0,\"ticks\":\"\"}}}],\"scatterpolar\":[{\"type\":\"scatterpolar\",\"marker\":{\"colorbar\":{\"outlinewidth\":0,\"ticks\":\"\"}}}],\"histogram\":[{\"marker\":{\"pattern\":{\"fillmode\":\"overlay\",\"size\":10,\"solidity\":0.2}},\"type\":\"histogram\"}],\"scattergl\":[{\"type\":\"scattergl\",\"marker\":{\"colorbar\":{\"outlinewidth\":0,\"ticks\":\"\"}}}],\"scatter3d\":[{\"type\":\"scatter3d\",\"line\":{\"colorbar\":{\"outlinewidth\":0,\"ticks\":\"\"}},\"marker\":{\"colorbar\":{\"outlinewidth\":0,\"ticks\":\"\"}}}],\"scattermapbox\":[{\"type\":\"scattermapbox\",\"marker\":{\"colorbar\":{\"outlinewidth\":0,\"ticks\":\"\"}}}],\"scatterternary\":[{\"type\":\"scatterternary\",\"marker\":{\"colorbar\":{\"outlinewidth\":0,\"ticks\":\"\"}}}],\"scattercarpet\":[{\"type\":\"scattercarpet\",\"marker\":{\"colorbar\":{\"outlinewidth\":0,\"ticks\":\"\"}}}],\"carpet\":[{\"aaxis\":{\"endlinecolor\":\"#2a3f5f\",\"gridcolor\":\"white\",\"linecolor\":\"white\",\"minorgridcolor\":\"white\",\"startlinecolor\":\"#2a3f5f\"},\"baxis\":{\"endlinecolor\":\"#2a3f5f\",\"gridcolor\":\"white\",\"linecolor\":\"white\",\"minorgridcolor\":\"white\",\"startlinecolor\":\"#2a3f5f\"},\"type\":\"carpet\"}],\"table\":[{\"cells\":{\"fill\":{\"color\":\"#EBF0F8\"},\"line\":{\"color\":\"white\"}},\"header\":{\"fill\":{\"color\":\"#C8D4E3\"},\"line\":{\"color\":\"white\"}},\"type\":\"table\"}],\"barpolar\":[{\"marker\":{\"line\":{\"color\":\"#E5ECF6\",\"width\":0.5},\"pattern\":{\"fillmode\":\"overlay\",\"size\":10,\"solidity\":0.2}},\"type\":\"barpolar\"}],\"pie\":[{\"automargin\":true,\"type\":\"pie\"}]},\"layout\":{\"autotypenumbers\":\"strict\",\"colorway\":[\"#636efa\",\"#EF553B\",\"#00cc96\",\"#ab63fa\",\"#FFA15A\",\"#19d3f3\",\"#FF6692\",\"#B6E880\",\"#FF97FF\",\"#FECB52\"],\"font\":{\"color\":\"#2a3f5f\"},\"hovermode\":\"closest\",\"hoverlabel\":{\"align\":\"left\"},\"paper_bgcolor\":\"white\",\"plot_bgcolor\":\"#E5ECF6\",\"polar\":{\"bgcolor\":\"#E5ECF6\",\"angularaxis\":{\"gridcolor\":\"white\",\"linecolor\":\"white\",\"ticks\":\"\"},\"radialaxis\":{\"gridcolor\":\"white\",\"linecolor\":\"white\",\"ticks\":\"\"}},\"ternary\":{\"bgcolor\":\"#E5ECF6\",\"aaxis\":{\"gridcolor\":\"white\",\"linecolor\":\"white\",\"ticks\":\"\"},\"baxis\":{\"gridcolor\":\"white\",\"linecolor\":\"white\",\"ticks\":\"\"},\"caxis\":{\"gridcolor\":\"white\",\"linecolor\":\"white\",\"ticks\":\"\"}},\"coloraxis\":{\"colorbar\":{\"outlinewidth\":0,\"ticks\":\"\"}},\"colorscale\":{\"sequential\":[[0.0,\"#0d0887\"],[0.1111111111111111,\"#46039f\"],[0.2222222222222222,\"#7201a8\"],[0.3333333333333333,\"#9c179e\"],[0.4444444444444444,\"#bd3786\"],[0.5555555555555556,\"#d8576b\"],[0.6666666666666666,\"#ed7953\"],[0.7777777777777778,\"#fb9f3a\"],[0.8888888888888888,\"#fdca26\"],[1.0,\"#f0f921\"]],\"sequentialminus\":[[0.0,\"#0d0887\"],[0.1111111111111111,\"#46039f\"],[0.2222222222222222,\"#7201a8\"],[0.3333333333333333,\"#9c179e\"],[0.4444444444444444,\"#bd3786\"],[0.5555555555555556,\"#d8576b\"],[0.6666666666666666,\"#ed7953\"],[0.7777777777777778,\"#fb9f3a\"],[0.8888888888888888,\"#fdca26\"],[1.0,\"#f0f921\"]],\"diverging\":[[0,\"#8e0152\"],[0.1,\"#c51b7d\"],[0.2,\"#de77ae\"],[0.3,\"#f1b6da\"],[0.4,\"#fde0ef\"],[0.5,\"#f7f7f7\"],[0.6,\"#e6f5d0\"],[0.7,\"#b8e186\"],[0.8,\"#7fbc41\"],[0.9,\"#4d9221\"],[1,\"#276419\"]]},\"xaxis\":{\"gridcolor\":\"white\",\"linecolor\":\"white\",\"ticks\":\"\",\"title\":{\"standoff\":15},\"zerolinecolor\":\"white\",\"automargin\":true,\"zerolinewidth\":2},\"yaxis\":{\"gridcolor\":\"white\",\"linecolor\":\"white\",\"ticks\":\"\",\"title\":{\"standoff\":15},\"zerolinecolor\":\"white\",\"automargin\":true,\"zerolinewidth\":2},\"scene\":{\"xaxis\":{\"backgroundcolor\":\"#E5ECF6\",\"gridcolor\":\"white\",\"linecolor\":\"white\",\"showbackground\":true,\"ticks\":\"\",\"zerolinecolor\":\"white\",\"gridwidth\":2},\"yaxis\":{\"backgroundcolor\":\"#E5ECF6\",\"gridcolor\":\"white\",\"linecolor\":\"white\",\"showbackground\":true,\"ticks\":\"\",\"zerolinecolor\":\"white\",\"gridwidth\":2},\"zaxis\":{\"backgroundcolor\":\"#E5ECF6\",\"gridcolor\":\"white\",\"linecolor\":\"white\",\"showbackground\":true,\"ticks\":\"\",\"zerolinecolor\":\"white\",\"gridwidth\":2}},\"shapedefaults\":{\"line\":{\"color\":\"#2a3f5f\"}},\"annotationdefaults\":{\"arrowcolor\":\"#2a3f5f\",\"arrowhead\":0,\"arrowwidth\":1},\"geo\":{\"bgcolor\":\"white\",\"landcolor\":\"#E5ECF6\",\"subunitcolor\":\"white\",\"showland\":true,\"showlakes\":true,\"lakecolor\":\"white\"},\"title\":{\"x\":0.05},\"mapbox\":{\"style\":\"light\"}}},\"xaxis\":{\"anchor\":\"y\",\"domain\":[0.0,1.0],\"title\":{\"text\":\"Year\"}},\"yaxis\":{\"anchor\":\"x\",\"domain\":[0.0,1.0],\"title\":{\"text\":\"Number of Publications\"}},\"legend\":{\"tracegroupgap\":0},\"title\":{\"text\":\"Number of Publications per Year in ArXiv HEP-TH\"},\"barmode\":\"relative\"},                        {\"responsive\": true}                    ).then(function(){\n",
              "                            \n",
              "var gd = document.getElementById('5f100199-a409-46ef-98ab-ea2444cd96b1');\n",
              "var x = new MutationObserver(function (mutations, observer) {{\n",
              "        var display = window.getComputedStyle(gd).display;\n",
              "        if (!display || display === 'none') {{\n",
              "            console.log([gd, 'removed!']);\n",
              "            Plotly.purge(gd);\n",
              "            observer.disconnect();\n",
              "        }}\n",
              "}});\n",
              "\n",
              "// Listen for the removal of the full notebook cells\n",
              "var notebookContainer = gd.closest('#notebook-container');\n",
              "if (notebookContainer) {{\n",
              "    x.observe(notebookContainer, {childList: true});\n",
              "}}\n",
              "\n",
              "// Listen for the clearing of the current output cell\n",
              "var outputEl = gd.closest('.output');\n",
              "if (outputEl) {{\n",
              "    x.observe(outputEl, {childList: true});\n",
              "}}\n",
              "\n",
              "                        })                };                            </script>        </div>\n",
              "</body>\n",
              "</html>"
            ]
          },
          "metadata": {}
        }
      ],
      "source": [
        "# get files\n",
        "citations_file = \"cit-HepTh.txt\"\n",
        "dates_file = \"cit-HepTh-dates.txt\"\n",
        "\n",
        "citations = pd.read_csv(citations_file, sep=r\"\\s+\", skiprows=1, header=None, names=[\"FromNodeId\", \"ToNodeId\"])\n",
        "\n",
        "dates = pd.read_csv(dates_file, sep=r\"\\s+\", skiprows=0, header=None, names=[\"PaperId\", \"Date\"])\n",
        "\n",
        "#get year\n",
        "dates['Date'] = pd.to_datetime(dates['Date'], errors='coerce')\n",
        "dates['Year'] = dates['Date'].dt.year\n",
        "\n",
        "# group by year\n",
        "yearly_publications = dates['Year'].value_counts().sort_index().reset_index()\n",
        "yearly_publications.columns = ['Year', 'Number of Publications']\n",
        "\n",
        "fig = px.bar(yearly_publications, x='Year', y='Number of Publications',\n",
        "             title=\"Number of Publications per Year in ArXiv HEP-TH\",\n",
        "             labels={\"Year\": \"Year\", \"Number of Publications\": \"Number of Publications\"})\n",
        "\n",
        "fig.show()\n"
      ]
    },
    {
      "cell_type": "markdown",
      "source": [
        "# AVG Citation over years"
      ],
      "metadata": {
        "id": "4P7PEYFt7Khz"
      }
    },
    {
      "cell_type": "code",
      "source": [
        "# get citations per each paper\n",
        "citations_count = citations['ToNodeId'].value_counts().reset_index()\n",
        "citations_count.columns = ['PaperId', 'CitationCount']\n",
        "\n",
        "# join with dates\n",
        "papers_with_citations = pd.merge(dates, citations_count, how='left', left_on='PaperId', right_on='PaperId')\n",
        "papers_with_citations['CitationCount'] = papers_with_citations['CitationCount'].fillna(0)\n",
        "\n",
        "# group by years, get mean\n",
        "yearly_citation_density = papers_with_citations.groupby('Year')['CitationCount'].mean().reset_index()\n",
        "yearly_citation_density.columns = ['Year', 'AvgCitationCount']\n",
        "\n",
        "fig = px.bar(yearly_citation_density, x='Year', y='AvgCitationCount',\n",
        "             title=\"Average Citation Density per Year in ArXiv HEP-TH\",\n",
        "             labels={\"Year\": \"Year\", \"AvgCitationCount\": \"Average Citation Count\"})\n",
        "\n",
        "fig.show()\n"
      ],
      "metadata": {
        "colab": {
          "base_uri": "https://localhost:8080/",
          "height": 542
        },
        "id": "BkF5vLE6d5JO",
        "outputId": "9338cc71-0103-4b90-dc46-869b0f050f38"
      },
      "execution_count": 4,
      "outputs": [
        {
          "output_type": "display_data",
          "data": {
            "text/html": [
              "<html>\n",
              "<head><meta charset=\"utf-8\" /></head>\n",
              "<body>\n",
              "    <div>            <script src=\"https://cdnjs.cloudflare.com/ajax/libs/mathjax/2.7.5/MathJax.js?config=TeX-AMS-MML_SVG\"></script><script type=\"text/javascript\">if (window.MathJax && window.MathJax.Hub && window.MathJax.Hub.Config) {window.MathJax.Hub.Config({SVG: {font: \"STIX-Web\"}});}</script>                <script type=\"text/javascript\">window.PlotlyConfig = {MathJaxConfig: 'local'};</script>\n",
              "        <script charset=\"utf-8\" src=\"https://cdn.plot.ly/plotly-2.35.2.min.js\"></script>                <div id=\"62d3cc5c-af46-4721-9f75-7cfb927fee40\" class=\"plotly-graph-div\" style=\"height:525px; width:100%;\"></div>            <script type=\"text/javascript\">                                    window.PLOTLYENV=window.PLOTLYENV || {};                                    if (document.getElementById(\"62d3cc5c-af46-4721-9f75-7cfb927fee40\")) {                    Plotly.newPlot(                        \"62d3cc5c-af46-4721-9f75-7cfb927fee40\",                        [{\"alignmentgroup\":\"True\",\"hovertemplate\":\"Year=%{x}\\u003cbr\\u003eAverage Citation Count=%{y}\\u003cextra\\u003e\\u003c\\u002fextra\\u003e\",\"legendgroup\":\"\",\"marker\":{\"color\":\"#636efa\",\"pattern\":{\"shape\":\"\"}},\"name\":\"\",\"offsetgroup\":\"\",\"orientation\":\"v\",\"showlegend\":false,\"textposition\":\"auto\",\"x\":[1992,1993,1994,1995,1996,1997,1998,1999,2000,2001,2002],\"xaxis\":\"x\",\"y\":[0.0,0.08362543815723586,0.5086385625431928,0.9488966318234611,1.2317847169332319,1.2958607714016934,1.0741368354162253,1.2136480856972822,7.347767771603755,4.682100508187465,5.032879818594104],\"yaxis\":\"y\",\"type\":\"bar\"}],                        {\"template\":{\"data\":{\"histogram2dcontour\":[{\"type\":\"histogram2dcontour\",\"colorbar\":{\"outlinewidth\":0,\"ticks\":\"\"},\"colorscale\":[[0.0,\"#0d0887\"],[0.1111111111111111,\"#46039f\"],[0.2222222222222222,\"#7201a8\"],[0.3333333333333333,\"#9c179e\"],[0.4444444444444444,\"#bd3786\"],[0.5555555555555556,\"#d8576b\"],[0.6666666666666666,\"#ed7953\"],[0.7777777777777778,\"#fb9f3a\"],[0.8888888888888888,\"#fdca26\"],[1.0,\"#f0f921\"]]}],\"choropleth\":[{\"type\":\"choropleth\",\"colorbar\":{\"outlinewidth\":0,\"ticks\":\"\"}}],\"histogram2d\":[{\"type\":\"histogram2d\",\"colorbar\":{\"outlinewidth\":0,\"ticks\":\"\"},\"colorscale\":[[0.0,\"#0d0887\"],[0.1111111111111111,\"#46039f\"],[0.2222222222222222,\"#7201a8\"],[0.3333333333333333,\"#9c179e\"],[0.4444444444444444,\"#bd3786\"],[0.5555555555555556,\"#d8576b\"],[0.6666666666666666,\"#ed7953\"],[0.7777777777777778,\"#fb9f3a\"],[0.8888888888888888,\"#fdca26\"],[1.0,\"#f0f921\"]]}],\"heatmap\":[{\"type\":\"heatmap\",\"colorbar\":{\"outlinewidth\":0,\"ticks\":\"\"},\"colorscale\":[[0.0,\"#0d0887\"],[0.1111111111111111,\"#46039f\"],[0.2222222222222222,\"#7201a8\"],[0.3333333333333333,\"#9c179e\"],[0.4444444444444444,\"#bd3786\"],[0.5555555555555556,\"#d8576b\"],[0.6666666666666666,\"#ed7953\"],[0.7777777777777778,\"#fb9f3a\"],[0.8888888888888888,\"#fdca26\"],[1.0,\"#f0f921\"]]}],\"heatmapgl\":[{\"type\":\"heatmapgl\",\"colorbar\":{\"outlinewidth\":0,\"ticks\":\"\"},\"colorscale\":[[0.0,\"#0d0887\"],[0.1111111111111111,\"#46039f\"],[0.2222222222222222,\"#7201a8\"],[0.3333333333333333,\"#9c179e\"],[0.4444444444444444,\"#bd3786\"],[0.5555555555555556,\"#d8576b\"],[0.6666666666666666,\"#ed7953\"],[0.7777777777777778,\"#fb9f3a\"],[0.8888888888888888,\"#fdca26\"],[1.0,\"#f0f921\"]]}],\"contourcarpet\":[{\"type\":\"contourcarpet\",\"colorbar\":{\"outlinewidth\":0,\"ticks\":\"\"}}],\"contour\":[{\"type\":\"contour\",\"colorbar\":{\"outlinewidth\":0,\"ticks\":\"\"},\"colorscale\":[[0.0,\"#0d0887\"],[0.1111111111111111,\"#46039f\"],[0.2222222222222222,\"#7201a8\"],[0.3333333333333333,\"#9c179e\"],[0.4444444444444444,\"#bd3786\"],[0.5555555555555556,\"#d8576b\"],[0.6666666666666666,\"#ed7953\"],[0.7777777777777778,\"#fb9f3a\"],[0.8888888888888888,\"#fdca26\"],[1.0,\"#f0f921\"]]}],\"surface\":[{\"type\":\"surface\",\"colorbar\":{\"outlinewidth\":0,\"ticks\":\"\"},\"colorscale\":[[0.0,\"#0d0887\"],[0.1111111111111111,\"#46039f\"],[0.2222222222222222,\"#7201a8\"],[0.3333333333333333,\"#9c179e\"],[0.4444444444444444,\"#bd3786\"],[0.5555555555555556,\"#d8576b\"],[0.6666666666666666,\"#ed7953\"],[0.7777777777777778,\"#fb9f3a\"],[0.8888888888888888,\"#fdca26\"],[1.0,\"#f0f921\"]]}],\"mesh3d\":[{\"type\":\"mesh3d\",\"colorbar\":{\"outlinewidth\":0,\"ticks\":\"\"}}],\"scatter\":[{\"fillpattern\":{\"fillmode\":\"overlay\",\"size\":10,\"solidity\":0.2},\"type\":\"scatter\"}],\"parcoords\":[{\"type\":\"parcoords\",\"line\":{\"colorbar\":{\"outlinewidth\":0,\"ticks\":\"\"}}}],\"scatterpolargl\":[{\"type\":\"scatterpolargl\",\"marker\":{\"colorbar\":{\"outlinewidth\":0,\"ticks\":\"\"}}}],\"bar\":[{\"error_x\":{\"color\":\"#2a3f5f\"},\"error_y\":{\"color\":\"#2a3f5f\"},\"marker\":{\"line\":{\"color\":\"#E5ECF6\",\"width\":0.5},\"pattern\":{\"fillmode\":\"overlay\",\"size\":10,\"solidity\":0.2}},\"type\":\"bar\"}],\"scattergeo\":[{\"type\":\"scattergeo\",\"marker\":{\"colorbar\":{\"outlinewidth\":0,\"ticks\":\"\"}}}],\"scatterpolar\":[{\"type\":\"scatterpolar\",\"marker\":{\"colorbar\":{\"outlinewidth\":0,\"ticks\":\"\"}}}],\"histogram\":[{\"marker\":{\"pattern\":{\"fillmode\":\"overlay\",\"size\":10,\"solidity\":0.2}},\"type\":\"histogram\"}],\"scattergl\":[{\"type\":\"scattergl\",\"marker\":{\"colorbar\":{\"outlinewidth\":0,\"ticks\":\"\"}}}],\"scatter3d\":[{\"type\":\"scatter3d\",\"line\":{\"colorbar\":{\"outlinewidth\":0,\"ticks\":\"\"}},\"marker\":{\"colorbar\":{\"outlinewidth\":0,\"ticks\":\"\"}}}],\"scattermapbox\":[{\"type\":\"scattermapbox\",\"marker\":{\"colorbar\":{\"outlinewidth\":0,\"ticks\":\"\"}}}],\"scatterternary\":[{\"type\":\"scatterternary\",\"marker\":{\"colorbar\":{\"outlinewidth\":0,\"ticks\":\"\"}}}],\"scattercarpet\":[{\"type\":\"scattercarpet\",\"marker\":{\"colorbar\":{\"outlinewidth\":0,\"ticks\":\"\"}}}],\"carpet\":[{\"aaxis\":{\"endlinecolor\":\"#2a3f5f\",\"gridcolor\":\"white\",\"linecolor\":\"white\",\"minorgridcolor\":\"white\",\"startlinecolor\":\"#2a3f5f\"},\"baxis\":{\"endlinecolor\":\"#2a3f5f\",\"gridcolor\":\"white\",\"linecolor\":\"white\",\"minorgridcolor\":\"white\",\"startlinecolor\":\"#2a3f5f\"},\"type\":\"carpet\"}],\"table\":[{\"cells\":{\"fill\":{\"color\":\"#EBF0F8\"},\"line\":{\"color\":\"white\"}},\"header\":{\"fill\":{\"color\":\"#C8D4E3\"},\"line\":{\"color\":\"white\"}},\"type\":\"table\"}],\"barpolar\":[{\"marker\":{\"line\":{\"color\":\"#E5ECF6\",\"width\":0.5},\"pattern\":{\"fillmode\":\"overlay\",\"size\":10,\"solidity\":0.2}},\"type\":\"barpolar\"}],\"pie\":[{\"automargin\":true,\"type\":\"pie\"}]},\"layout\":{\"autotypenumbers\":\"strict\",\"colorway\":[\"#636efa\",\"#EF553B\",\"#00cc96\",\"#ab63fa\",\"#FFA15A\",\"#19d3f3\",\"#FF6692\",\"#B6E880\",\"#FF97FF\",\"#FECB52\"],\"font\":{\"color\":\"#2a3f5f\"},\"hovermode\":\"closest\",\"hoverlabel\":{\"align\":\"left\"},\"paper_bgcolor\":\"white\",\"plot_bgcolor\":\"#E5ECF6\",\"polar\":{\"bgcolor\":\"#E5ECF6\",\"angularaxis\":{\"gridcolor\":\"white\",\"linecolor\":\"white\",\"ticks\":\"\"},\"radialaxis\":{\"gridcolor\":\"white\",\"linecolor\":\"white\",\"ticks\":\"\"}},\"ternary\":{\"bgcolor\":\"#E5ECF6\",\"aaxis\":{\"gridcolor\":\"white\",\"linecolor\":\"white\",\"ticks\":\"\"},\"baxis\":{\"gridcolor\":\"white\",\"linecolor\":\"white\",\"ticks\":\"\"},\"caxis\":{\"gridcolor\":\"white\",\"linecolor\":\"white\",\"ticks\":\"\"}},\"coloraxis\":{\"colorbar\":{\"outlinewidth\":0,\"ticks\":\"\"}},\"colorscale\":{\"sequential\":[[0.0,\"#0d0887\"],[0.1111111111111111,\"#46039f\"],[0.2222222222222222,\"#7201a8\"],[0.3333333333333333,\"#9c179e\"],[0.4444444444444444,\"#bd3786\"],[0.5555555555555556,\"#d8576b\"],[0.6666666666666666,\"#ed7953\"],[0.7777777777777778,\"#fb9f3a\"],[0.8888888888888888,\"#fdca26\"],[1.0,\"#f0f921\"]],\"sequentialminus\":[[0.0,\"#0d0887\"],[0.1111111111111111,\"#46039f\"],[0.2222222222222222,\"#7201a8\"],[0.3333333333333333,\"#9c179e\"],[0.4444444444444444,\"#bd3786\"],[0.5555555555555556,\"#d8576b\"],[0.6666666666666666,\"#ed7953\"],[0.7777777777777778,\"#fb9f3a\"],[0.8888888888888888,\"#fdca26\"],[1.0,\"#f0f921\"]],\"diverging\":[[0,\"#8e0152\"],[0.1,\"#c51b7d\"],[0.2,\"#de77ae\"],[0.3,\"#f1b6da\"],[0.4,\"#fde0ef\"],[0.5,\"#f7f7f7\"],[0.6,\"#e6f5d0\"],[0.7,\"#b8e186\"],[0.8,\"#7fbc41\"],[0.9,\"#4d9221\"],[1,\"#276419\"]]},\"xaxis\":{\"gridcolor\":\"white\",\"linecolor\":\"white\",\"ticks\":\"\",\"title\":{\"standoff\":15},\"zerolinecolor\":\"white\",\"automargin\":true,\"zerolinewidth\":2},\"yaxis\":{\"gridcolor\":\"white\",\"linecolor\":\"white\",\"ticks\":\"\",\"title\":{\"standoff\":15},\"zerolinecolor\":\"white\",\"automargin\":true,\"zerolinewidth\":2},\"scene\":{\"xaxis\":{\"backgroundcolor\":\"#E5ECF6\",\"gridcolor\":\"white\",\"linecolor\":\"white\",\"showbackground\":true,\"ticks\":\"\",\"zerolinecolor\":\"white\",\"gridwidth\":2},\"yaxis\":{\"backgroundcolor\":\"#E5ECF6\",\"gridcolor\":\"white\",\"linecolor\":\"white\",\"showbackground\":true,\"ticks\":\"\",\"zerolinecolor\":\"white\",\"gridwidth\":2},\"zaxis\":{\"backgroundcolor\":\"#E5ECF6\",\"gridcolor\":\"white\",\"linecolor\":\"white\",\"showbackground\":true,\"ticks\":\"\",\"zerolinecolor\":\"white\",\"gridwidth\":2}},\"shapedefaults\":{\"line\":{\"color\":\"#2a3f5f\"}},\"annotationdefaults\":{\"arrowcolor\":\"#2a3f5f\",\"arrowhead\":0,\"arrowwidth\":1},\"geo\":{\"bgcolor\":\"white\",\"landcolor\":\"#E5ECF6\",\"subunitcolor\":\"white\",\"showland\":true,\"showlakes\":true,\"lakecolor\":\"white\"},\"title\":{\"x\":0.05},\"mapbox\":{\"style\":\"light\"}}},\"xaxis\":{\"anchor\":\"y\",\"domain\":[0.0,1.0],\"title\":{\"text\":\"Year\"}},\"yaxis\":{\"anchor\":\"x\",\"domain\":[0.0,1.0],\"title\":{\"text\":\"Average Citation Count\"}},\"legend\":{\"tracegroupgap\":0},\"title\":{\"text\":\"Average Citation Density per Year in ArXiv HEP-TH\"},\"barmode\":\"relative\"},                        {\"responsive\": true}                    ).then(function(){\n",
              "                            \n",
              "var gd = document.getElementById('62d3cc5c-af46-4721-9f75-7cfb927fee40');\n",
              "var x = new MutationObserver(function (mutations, observer) {{\n",
              "        var display = window.getComputedStyle(gd).display;\n",
              "        if (!display || display === 'none') {{\n",
              "            console.log([gd, 'removed!']);\n",
              "            Plotly.purge(gd);\n",
              "            observer.disconnect();\n",
              "        }}\n",
              "}});\n",
              "\n",
              "// Listen for the removal of the full notebook cells\n",
              "var notebookContainer = gd.closest('#notebook-container');\n",
              "if (notebookContainer) {{\n",
              "    x.observe(notebookContainer, {childList: true});\n",
              "}}\n",
              "\n",
              "// Listen for the clearing of the current output cell\n",
              "var outputEl = gd.closest('.output');\n",
              "if (outputEl) {{\n",
              "    x.observe(outputEl, {childList: true});\n",
              "}}\n",
              "\n",
              "                        })                };                            </script>        </div>\n",
              "</body>\n",
              "</html>"
            ]
          },
          "metadata": {}
        }
      ]
    },
    {
      "cell_type": "code",
      "source": [
        "# just a check for 1992\n",
        "papers_1992 = papers_with_citations[papers_with_citations['Year'] == 1992]\n",
        "print(papers_1992[['PaperId', 'CitationCount']])\n"
      ],
      "metadata": {
        "colab": {
          "base_uri": "https://localhost:8080/"
        },
        "id": "nFDbjW7Zod--",
        "outputId": "42b7f053-e35c-4b03-f5ea-cd3abbfee37f"
      },
      "execution_count": 5,
      "outputs": [
        {
          "output_type": "stream",
          "name": "stdout",
          "text": [
            "       PaperId  CitationCount\n",
            "0      9203201            0.0\n",
            "1      9203202            0.0\n",
            "2      9203203            0.0\n",
            "3      9203204            0.0\n",
            "4      9203205            0.0\n",
            "..         ...            ...\n",
            "850  119212068            0.0\n",
            "851  119212148            0.0\n",
            "852  119212149            0.0\n",
            "853  119212004            0.0\n",
            "854  119212008            0.0\n",
            "\n",
            "[855 rows x 2 columns]\n"
          ]
        }
      ]
    },
    {
      "cell_type": "markdown",
      "source": [
        "# Most Citated papers 1999 - 2000"
      ],
      "metadata": {
        "id": "9F5yXB907plC"
      }
    },
    {
      "cell_type": "code",
      "source": [
        "# filter only 1999 and 2000\n",
        "papers_1999_2000 = dates[(dates['Year'] == 1999) | (dates['Year'] == 2000)]\n",
        "papers_1999_2000_ids = papers_1999_2000['PaperId'].unique()\n",
        "\n",
        "# Leave only citations where the end ID (ToNodeId) is an article from 1999 or 2000\n",
        "citations_1999_2000 = citations[citations['ToNodeId'].isin(papers_1999_2000_ids)]\n",
        "\n",
        "# Count the number of citations for each article\n",
        "citations_agg_1999_2000 = citations_1999_2000['ToNodeId'].value_counts().reset_index()\n",
        "citations_agg_1999_2000.columns = ['ToNodeId', 'TotalCitationCount']\n"
      ],
      "metadata": {
        "id": "ODABTti-gUnE"
      },
      "execution_count": 7,
      "outputs": []
    },
    {
      "cell_type": "code",
      "source": [
        "\n",
        "papers_with_citations_1999_2000 = pd.merge(\n",
        "    papers_1999_2000[['PaperId', 'Year']],\n",
        "    citations_agg_1999_2000,\n",
        "    how='left',\n",
        "    left_on='PaperId',\n",
        "    right_on='ToNodeId'\n",
        ")\n",
        "\n",
        "#fill missing\n",
        "papers_with_citations_1999_2000['TotalCitationCount'] = papers_with_citations_1999_2000['TotalCitationCount'].fillna(0)\n"
      ],
      "metadata": {
        "id": "REnko_FlLnwd"
      },
      "execution_count": 9,
      "outputs": []
    },
    {
      "cell_type": "code",
      "source": [
        "papers_with_dates = pd.merge(papers_with_citations_1999_2000[['PaperId', 'Year']], citations_agg_1999_2000, how='left', left_on='PaperId', right_on='ToNodeId')\n",
        "\n",
        "# missing\n",
        "papers_with_dates['TotalCitationCount'] = papers_with_dates['TotalCitationCount'].fillna(0)\n",
        "\n",
        "# sort\n",
        "papers_with_dates_sorted = papers_with_dates.sort_values('TotalCitationCount', ascending=False)\n",
        "\n",
        "\n",
        "print(papers_with_dates_sorted[['PaperId', 'Year', 'TotalCitationCount']].head(10))\n"
      ],
      "metadata": {
        "colab": {
          "base_uri": "https://localhost:8080/"
        },
        "id": "wNe8afBR7t2J",
        "outputId": "ca6d3515-bfde-450d-bf64-50410bb61d91"
      },
      "execution_count": 10,
      "outputs": [
        {
          "output_type": "stream",
          "name": "stdout",
          "text": [
            "      PaperId  Year  TotalCitationCount\n",
            "1130  9904207  1999               282.0\n",
            "695   9903205  1999               251.0\n",
            "5999     3160  2000               242.0\n",
            "5834   112044  2000               242.0\n",
            "3738  9910219  1999               211.0\n",
            "4636  9912249  1999               201.0\n",
            "7674     7191  2000               197.0\n",
            "8500     9148  2000               196.0\n",
            "5544     2091  2000               186.0\n",
            "5528     2075  2000               182.0\n"
          ]
        }
      ]
    },
    {
      "cell_type": "code",
      "source": [
        "\n",
        "citations = pd.read_csv(citations_file, sep=r\"\\s+\", skiprows=1, header=None, names=[\"FromNodeId\", \"ToNodeId\"])\n",
        "dates = pd.read_csv(dates_file, sep=r\"\\s+\", skiprows=0, header=None, names=[\"PaperId\", \"Date\"])\n",
        "\n",
        "dates['Date'] = pd.to_datetime(dates['Date'], errors='coerce')\n",
        "dates['Year'] = dates['Date'].dt.year\n",
        "\n",
        "citations_count = citations['ToNodeId'].value_counts().reset_index()\n",
        "citations_count.columns = ['PaperId', 'CitationCount']\n",
        "\n",
        "\n",
        "papers_with_citations = pd.merge(dates, citations_count, how='left', left_on='PaperId', right_on='PaperId')\n",
        "papers_with_citations['CitationCount'] = papers_with_citations['CitationCount'].fillna(0)\n",
        "\n",
        "\n",
        "papers_with_citations_sorted = papers_with_citations.sort_values(by=['Year', 'CitationCount'], ascending=[True, False])\n",
        "\n",
        "\n",
        "top_cited_by_year = papers_with_citations_sorted.groupby('Year').head(10)\n",
        "\n",
        "\n",
        "for year in top_cited_by_year['Year'].unique():\n",
        "    print(f\"Top 10 most cited papers in {year}:\")\n",
        "    top_papers = top_cited_by_year[top_cited_by_year['Year'] == year]\n",
        "    print(top_papers[['PaperId', 'CitationCount']])\n",
        "    print(\"\\n\")\n"
      ],
      "metadata": {
        "colab": {
          "base_uri": "https://localhost:8080/"
        },
        "id": "qeyPC69e7uUT",
        "outputId": "b99d6531-f3ef-4810-f6c5-52470041af38"
      },
      "execution_count": 11,
      "outputs": [
        {
          "output_type": "stream",
          "name": "stdout",
          "text": [
            "Top 10 most cited papers in 1992:\n",
            "   PaperId  CitationCount\n",
            "0  9203201            0.0\n",
            "1  9203202            0.0\n",
            "2  9203203            0.0\n",
            "3  9203204            0.0\n",
            "4  9203205            0.0\n",
            "5  9203206            0.0\n",
            "6  9203207            0.0\n",
            "7  9203208            0.0\n",
            "8  9203209            0.0\n",
            "9  9203210            0.0\n",
            "\n",
            "\n",
            "Top 10 most cited papers in 1993:\n",
            "      PaperId  CitationCount\n",
            "2259  9310202           48.0\n",
            "2670  9312206           38.0\n",
            "2676  9312212           15.0\n",
            "2258  9310201           13.0\n",
            "2672  9312208           10.0\n",
            "2677  9312213           10.0\n",
            "2673  9312209            9.0\n",
            "2674  9312210            9.0\n",
            "2671  9312207            6.0\n",
            "2668  9312204            2.0\n",
            "\n",
            "\n",
            "Top 10 most cited papers in 1994:\n",
            "      PaperId  CitationCount\n",
            "5534  9412228          110.0\n",
            "5003  9410237           91.0\n",
            "3934  9406206           82.0\n",
            "3944  9406216           77.0\n",
            "5223  9411210           68.0\n",
            "5542  9412236           63.0\n",
            "5535  9412229           61.0\n",
            "3945  9406217           48.0\n",
            "5515  9412209           47.0\n",
            "4996  9410230           40.0\n",
            "\n",
            "\n",
            "Top 10 most cited papers in 1995:\n",
            "      PaperId  CitationCount\n",
            "8274  9510209          788.0\n",
            "8610  9511222          273.0\n",
            "8290  9510225          175.0\n",
            "8930  9512219          169.0\n",
            "8292  9510227          129.0\n",
            "8269  9510204          101.0\n",
            "8299  9510234           92.0\n",
            "6246  9503207           89.0\n",
            "8287  9510222           76.0\n",
            "8294  9510229           65.0\n",
            "\n",
            "\n",
            "Top 10 most cited papers in 1996:\n",
            "       PaperId  CitationCount\n",
            "12485  9611230          438.0\n",
            "10972  9607201          247.0\n",
            "12457  9611202          184.0\n",
            "11006  9607235          164.0\n",
            "12092  9610249          154.0\n",
            "12077  9610234          151.0\n",
            "11698  9609239          145.0\n",
            "10978  9607207          127.0\n",
            "10336  9605234          113.0\n",
            "12468  9611213          102.0\n",
            "\n",
            "\n",
            "Top 10 most cited papers in 1997:\n",
            "       PaperId  CitationCount\n",
            "15817  9709220          222.0\n",
            "14335  9705221          208.0\n",
            "17029  9712251          197.0\n",
            "16200  9710230          139.0\n",
            "16201  9710231          133.0\n",
            "17008  9712230          113.0\n",
            "13689  9703210          108.0\n",
            "13391  9702202           97.0\n",
            "13696  9703217           97.0\n",
            "17017  9712239           84.0\n",
            "\n",
            "\n",
            "Top 10 most cited papers in 1998:\n",
            "       PaperId  CitationCount\n",
            "21710  9812219          257.0\n",
            "18070  9803235          208.0\n",
            "17716  9802203          131.0\n",
            "20838  9810201          117.0\n",
            "17387  9801206          105.0\n",
            "20843  9810206           99.0\n",
            "21316  9811237           91.0\n",
            "18086  9803251           84.0\n",
            "18100  9803265           82.0\n",
            "18098  9803263           78.0\n",
            "\n",
            "\n",
            "Top 10 most cited papers in 1999:\n",
            "       PaperId  CitationCount\n",
            "23232  9904207          282.0\n",
            "22797  9903205          251.0\n",
            "25840  9910219          211.0\n",
            "26738  9912249          201.0\n",
            "23619  9905210          168.0\n",
            "22817  9903225          130.0\n",
            "22816  9903224          119.0\n",
            "25361  9909205          111.0\n",
            "24511  9907209          109.0\n",
            "26776  9912287           99.0\n",
            "\n",
            "\n",
            "Top 10 most cited papers in 2000:\n",
            "       PaperId  CitationCount\n",
            "27936   112044          242.0\n",
            "28101     3160          242.0\n",
            "29776     7191          197.0\n",
            "30602     9148          196.0\n",
            "27646     2091          186.0\n",
            "27630     2075          182.0\n",
            "28077     3136          179.0\n",
            "28730     5031          179.0\n",
            "30557     9103          174.0\n",
            "28747     5048          159.0\n",
            "\n",
            "\n",
            "Top 10 most cited papers in 2001:\n",
            "       PaperId  CitationCount\n",
            "37271   112044          242.0\n",
            "34532   106048          220.0\n",
            "36351   110242          205.0\n",
            "34597   106113          193.0\n",
            "34593   106109          153.0\n",
            "33434   103239          109.0\n",
            "35126   107177          109.0\n",
            "33262   103067          106.0\n",
            "36218   110108          106.0\n",
            "35915   109162          105.0\n",
            "\n",
            "\n",
            "Top 10 most cited papers in 2002:\n",
            "       PaperId  CitationCount\n",
            "38086   202021          328.0\n",
            "37754   201081          212.0\n",
            "38174   202109          204.0\n",
            "38176   202111          118.0\n",
            "38244   202179           99.0\n",
            "38222   202157           91.0\n",
            "38275   202210           89.0\n",
            "38251   202186           85.0\n",
            "38218   202153           81.0\n",
            "38517   203082           70.0\n",
            "\n",
            "\n"
          ]
        }
      ]
    },
    {
      "cell_type": "markdown",
      "source": [
        "# Degree and Beteewnness Centrality"
      ],
      "metadata": {
        "id": "QzDzZAQqhQPN"
      }
    },
    {
      "cell_type": "code",
      "source": [
        "# get 2002 only\n",
        "papers_2002 = dates[dates['Year'] == 2002]\n",
        "papers_2002_ids = papers_2002['PaperId'].unique()\n",
        "citations_2002 = citations[citations['ToNodeId'].isin(papers_2002_ids) | citations['FromNodeId'].isin(papers_2002_ids)]\n",
        "\n",
        "# create a graph\n",
        "G_2002 = nx.DiGraph()\n",
        "for _, row in citations_2002.iterrows():\n",
        "    G_2002.add_edge(row['FromNodeId'], row['ToNodeId'])\n",
        "\n",
        "# 1. Degree Centrality\n",
        "degree_centrality_2002 = nx.degree_centrality(G_2002)\n",
        "\n",
        "# 2. Betweenness Centrality\n",
        "betweenness_centrality_2002 = nx.betweenness_centrality(G_2002)\n",
        "\n",
        "# save in DataFrame\n",
        "centrality_df_2002 = pd.DataFrame({\n",
        "    'PaperId': list(degree_centrality_2002.keys()),\n",
        "    'DegreeCentrality': list(degree_centrality_2002.values()),\n",
        "    'BetweennessCentrality': list(betweenness_centrality_2002.values())\n",
        "})\n",
        "\n",
        "\n",
        "centrality_with_info = pd.merge(papers_2002, centrality_df_2002, how='left', on='PaperId').fillna(0)\n",
        "\n",
        "top_degree_centrality_2002 = centrality_with_info.sort_values(by='DegreeCentrality', ascending=False).head(10)\n",
        "print(\"Top 10 papers by Degree Centrality in 2002:\")\n",
        "print(top_degree_centrality_2002[['PaperId', 'DegreeCentrality', 'BetweennessCentrality']])\n",
        "\n",
        "\n",
        "top_betweenness_centrality_2002 = centrality_with_info.sort_values(by='BetweennessCentrality', ascending=False).head(10)\n",
        "print(\"\\nTop 10 papers by Betweenness Centrality in 2002:\")\n",
        "print(top_betweenness_centrality_2002[['PaperId', 'DegreeCentrality', 'BetweennessCentrality']])\n"
      ],
      "metadata": {
        "colab": {
          "base_uri": "https://localhost:8080/"
        },
        "id": "LCb11I4zhVxV",
        "outputId": "484a6ef9-cf82-44f1-c3e7-08a6db3b99ac"
      },
      "execution_count": 12,
      "outputs": [
        {
          "output_type": "stream",
          "name": "stdout",
          "text": [
            "Top 10 papers by Degree Centrality in 2002:\n",
            "     PaperId  DegreeCentrality  BetweennessCentrality\n",
            "411   202021          0.051825               0.000205\n",
            "251   201253          0.037938               0.000273\n",
            "499   202109          0.032785               0.000380\n",
            "79    201081          0.031782               0.000035\n",
            "798   203048          0.022334               0.000084\n",
            "501   202111          0.020759               0.000078\n",
            "863   203101          0.019900               0.000085\n",
            "569   202179          0.019470               0.000100\n",
            "547   202157          0.016034               0.000036\n",
            "576   202186          0.015891               0.000107\n",
            "\n",
            "Top 10 papers by Betweenness Centrality in 2002:\n",
            "     PaperId  DegreeCentrality  BetweennessCentrality\n",
            "517   202127          0.006872               0.000930\n",
            "766   203018          0.011739               0.000826\n",
            "438   202048          0.005297               0.000818\n",
            "2     201004          0.011167               0.000763\n",
            "213   201215          0.006013               0.000707\n",
            "172   201174          0.006729               0.000659\n",
            "767   203019          0.010594               0.000655\n",
            "514   202124          0.009592               0.000545\n",
            "499   202109          0.032785               0.000380\n",
            "842   203082          0.013744               0.000341\n"
          ]
        }
      ]
    },
    {
      "cell_type": "markdown",
      "source": [
        "# Founding Papers"
      ],
      "metadata": {
        "id": "8GEqHiYVCCaW"
      }
    },
    {
      "cell_type": "code",
      "source": [
        "#initial citation count\n",
        "initial_citations_count = citations.groupby('ToNodeId').size().reset_index(name='InitialCitationCount')\n",
        "\n",
        "# Add to the article data information on initial citations\n",
        "papers_with_initial_citations = pd.merge(dates, initial_citations_count, how='left', left_on='PaperId', right_on='ToNodeId')\n",
        "\n",
        "papers_with_initial_citations['InitialCitationCount'] = papers_with_initial_citations['InitialCitationCount'].fillna(0)\n",
        "\n",
        "\n",
        "G = nx.DiGraph()\n",
        "\n",
        "\n",
        "for _, row in citations.iterrows():\n",
        "    G.add_edge(row['FromNodeId'], row['ToNodeId'])\n",
        "\n",
        "\n",
        "\n",
        "# Look for all indirect citations, starting with each paper\n",
        "def get_indirect_citations(paper_id, graph):\n",
        "    if paper_id not in graph:\n",
        "        return 0\n",
        "\n",
        "    # First we get all the papers that cite this PaperId\n",
        "    neighbors = list(graph.neighbors(paper_id))\n",
        "    all_cited = set(neighbors)\n",
        "    for neighbor in neighbors:\n",
        "        all_cited.update(graph.neighbors(neighbor))  # add articles that cite these neighbours\n",
        "    all_cited.discard(paper_id)\n",
        "    return len(all_cited)\n",
        "\n",
        "\n",
        "papers_with_initial_citations['IndirectCitationCount'] = papers_with_initial_citations['PaperId'].apply(lambda x: get_indirect_citations(x, G))\n",
        "\n",
        "\n",
        "praroditeli = papers_with_initial_citations.sort_values(by='IndirectCitationCount', ascending=False)\n",
        "\n",
        "\n",
        "top_praroditeli = praroditeli[['PaperId', 'Year', 'InitialCitationCount', 'IndirectCitationCount']].head(10)\n",
        "print(top_praroditeli)"
      ],
      "metadata": {
        "colab": {
          "base_uri": "https://localhost:8080/"
        },
        "id": "0_lw1Ds2CEim",
        "outputId": "d55ac4c5-0972-477e-8086-866f0471b9ac"
      },
      "execution_count": 4,
      "outputs": [
        {
          "output_type": "stream",
          "name": "stdout",
          "text": [
            "       PaperId  Year  InitialCitationCount  IndirectCitationCount\n",
            "36165   110055  2001                   5.0                   3080\n",
            "29755     7170  2000                  78.0                   2246\n",
            "32469   101126  2001                  60.0                   2034\n",
            "38473   203048  2002                  14.0                   2013\n",
            "34532   106048  2001                 220.0                   1858\n",
            "37926   201253  2002                  39.0                   1852\n",
            "34662   106178  2001                   4.0                   1667\n",
            "30272     8241  2000                  39.0                   1642\n",
            "35553   108172  2001                  36.0                   1586\n",
            "29780     7195  2000                  10.0                   1538\n"
          ]
        }
      ]
    },
    {
      "cell_type": "code",
      "source": [],
      "metadata": {
        "id": "rihMdbOfKI2v"
      },
      "execution_count": null,
      "outputs": []
    }
  ]
}